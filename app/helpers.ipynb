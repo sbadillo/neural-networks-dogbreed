{
 "cells": [
  {
   "cell_type": "code",
   "execution_count": 2,
   "metadata": {},
   "outputs": [],
   "source": [
    "import os\n",
    "import glob\n",
    "import shutil"
   ]
  },
  {
   "cell_type": "code",
   "execution_count": 7,
   "metadata": {},
   "outputs": [],
   "source": [
    "source_dir = os.path.join(\"/Users/Dumpi/Learn/dsnd/Capstone/dog-project/DogImages/train/\")\n",
    "dest_dir = os.path.abspath(os.getcwd()+ \"/static/example_images\")\n"
   ]
  },
  {
   "cell_type": "code",
   "execution_count": 18,
   "metadata": {},
   "outputs": [
    {
     "name": "stdout",
     "output_type": "stream",
     "text": [
      "001.Affenpinscher\n"
     ]
    },
    {
     "ename": "FileExistsError",
     "evalue": "[WinError 183] Cannot create a file when that file already exists: 'c:\\\\Users\\\\Dumpi\\\\Learn\\\\dsnd\\\\Capstone\\\\neural-networks-dogbreed\\\\app\\\\static\\\\example_images\\\\001.Affenpinscher'",
     "output_type": "error",
     "traceback": [
      "\u001b[1;31m---------------------------------------------------------------------------\u001b[0m",
      "\u001b[1;31mFileExistsError\u001b[0m                           Traceback (most recent call last)",
      "Cell \u001b[1;32mIn[18], line 4\u001b[0m\n\u001b[0;32m      2\u001b[0m \u001b[39mprint\u001b[39m(\u001b[39mdir\u001b[39m)\n\u001b[0;32m      3\u001b[0m breed_dir \u001b[39m=\u001b[39m os\u001b[39m.\u001b[39mpath\u001b[39m.\u001b[39mjoin(dest_dir,\u001b[39mdir\u001b[39m)\n\u001b[1;32m----> 4\u001b[0m os\u001b[39m.\u001b[39;49mmkdir(breed_dir)\n\u001b[0;32m      5\u001b[0m \u001b[39mfor\u001b[39;00m f \u001b[39min\u001b[39;00m os\u001b[39m.\u001b[39mlistdir(os\u001b[39m.\u001b[39mpath\u001b[39m.\u001b[39mjoin(source_dir \u001b[39m+\u001b[39m \u001b[39mdir\u001b[39m))[:\u001b[39m10\u001b[39m]:\n\u001b[0;32m      6\u001b[0m     shutil\u001b[39m.\u001b[39mcopyfile(os\u001b[39m.\u001b[39mpath\u001b[39m.\u001b[39mjoin(source_dir, \u001b[39mdir\u001b[39m, f), os\u001b[39m.\u001b[39mpath\u001b[39m.\u001b[39mjoin(breed_dir,f))\n",
      "\u001b[1;31mFileExistsError\u001b[0m: [WinError 183] Cannot create a file when that file already exists: 'c:\\\\Users\\\\Dumpi\\\\Learn\\\\dsnd\\\\Capstone\\\\neural-networks-dogbreed\\\\app\\\\static\\\\example_images\\\\001.Affenpinscher'"
     ]
    }
   ],
   "source": [
    "for dir in os.listdir(source_dir)[:]:\n",
    "    print(dir)\n",
    "    breed_dir = os.path.join(dest_dir,dir)\n",
    "    os.mkdir(breed_dir)\n",
    "    for f in os.listdir(os.path.join(source_dir + dir))[:10]:\n",
    "        shutil.copyfile(os.path.join(source_dir, dir, f), os.path.join(breed_dir,f))"
   ]
  },
  {
   "cell_type": "code",
   "execution_count": 4,
   "metadata": {},
   "outputs": [
    {
     "name": "stderr",
     "output_type": "stream",
     "text": [
      "100%|██████████| 133/133 [00:00<00:00, 791.51it/s]"
     ]
    },
    {
     "name": "stdout",
     "output_type": "stream",
     "text": [
      "./static/example_images/001.Affenpinscher\n",
      "./static/example_images/002.Afghan_hound\n",
      "./static/example_images/003.Airedale_terrier\n",
      "./static/example_images/004.Akita\n",
      "./static/example_images/005.Alaskan_malamute\n",
      "./static/example_images/006.American_eskimo_dog\n",
      "./static/example_images/007.American_foxhound\n",
      "./static/example_images/008.American_staffordshire_terrier\n",
      "./static/example_images/009.American_water_spaniel\n",
      "./static/example_images/010.Anatolian_shepherd_dog\n",
      "./static/example_images/011.Australian_cattle_dog\n",
      "./static/example_images/012.Australian_shepherd\n",
      "./static/example_images/013.Australian_terrier\n",
      "./static/example_images/014.Basenji\n",
      "./static/example_images/015.Basset_hound\n",
      "./static/example_images/016.Beagle\n",
      "./static/example_images/017.Bearded_collie\n",
      "./static/example_images/018.Beauceron\n",
      "./static/example_images/019.Bedlington_terrier\n",
      "./static/example_images/020.Belgian_malinois\n",
      "./static/example_images/021.Belgian_sheepdog\n",
      "./static/example_images/022.Belgian_tervuren\n",
      "./static/example_images/023.Bernese_mountain_dog\n",
      "./static/example_images/024.Bichon_frise\n",
      "./static/example_images/025.Black_and_tan_coonhound\n",
      "./static/example_images/026.Black_russian_terrier\n",
      "./static/example_images/027.Bloodhound\n",
      "./static/example_images/028.Bluetick_coonhound\n",
      "./static/example_images/029.Border_collie\n",
      "./static/example_images/030.Border_terrier\n",
      "./static/example_images/031.Borzoi\n",
      "./static/example_images/032.Boston_terrier\n",
      "./static/example_images/033.Bouvier_des_flandres\n",
      "./static/example_images/034.Boxer\n",
      "./static/example_images/035.Boykin_spaniel\n",
      "./static/example_images/036.Briard\n",
      "./static/example_images/037.Brittany\n",
      "./static/example_images/038.Brussels_griffon\n",
      "./static/example_images/039.Bull_terrier\n",
      "./static/example_images/040.Bulldog\n",
      "./static/example_images/041.Bullmastiff\n",
      "./static/example_images/042.Cairn_terrier\n",
      "./static/example_images/043.Canaan_dog\n",
      "./static/example_images/044.Cane_corso\n",
      "./static/example_images/045.Cardigan_welsh_corgi\n",
      "./static/example_images/046.Cavalier_king_charles_spaniel\n",
      "./static/example_images/047.Chesapeake_bay_retriever\n",
      "./static/example_images/048.Chihuahua\n",
      "./static/example_images/049.Chinese_crested\n",
      "./static/example_images/050.Chinese_shar-pei\n",
      "./static/example_images/051.Chow_chow\n",
      "./static/example_images/052.Clumber_spaniel\n",
      "./static/example_images/053.Cocker_spaniel\n",
      "./static/example_images/054.Collie\n",
      "./static/example_images/055.Curly-coated_retriever\n",
      "./static/example_images/056.Dachshund\n",
      "./static/example_images/057.Dalmatian\n",
      "./static/example_images/058.Dandie_dinmont_terrier\n",
      "./static/example_images/059.Doberman_pinscher\n",
      "./static/example_images/060.Dogue_de_bordeaux\n",
      "./static/example_images/061.English_cocker_spaniel\n",
      "./static/example_images/062.English_setter\n",
      "./static/example_images/063.English_springer_spaniel\n",
      "./static/example_images/064.English_toy_spaniel\n",
      "./static/example_images/065.Entlebucher_mountain_dog\n",
      "./static/example_images/066.Field_spaniel\n",
      "./static/example_images/067.Finnish_spitz\n",
      "./static/example_images/068.Flat-coated_retriever\n",
      "./static/example_images/069.French_bulldog\n",
      "./static/example_images/070.German_pinscher\n",
      "./static/example_images/071.German_shepherd_dog\n",
      "./static/example_images/072.German_shorthaired_pointer\n",
      "./static/example_images/073.German_wirehaired_pointer\n",
      "./static/example_images/074.Giant_schnauzer\n",
      "./static/example_images/075.Glen_of_imaal_terrier\n",
      "./static/example_images/076.Golden_retriever\n",
      "./static/example_images/077.Gordon_setter\n",
      "./static/example_images/078.Great_dane\n",
      "./static/example_images/079.Great_pyrenees\n",
      "./static/example_images/080.Greater_swiss_mountain_dog\n",
      "./static/example_images/081.Greyhound\n",
      "./static/example_images/082.Havanese\n",
      "./static/example_images/083.Ibizan_hound\n",
      "./static/example_images/084.Icelandic_sheepdog\n",
      "./static/example_images/085.Irish_red_and_white_setter\n",
      "./static/example_images/086.Irish_setter\n",
      "./static/example_images/087.Irish_terrier\n",
      "./static/example_images/088.Irish_water_spaniel\n",
      "./static/example_images/089.Irish_wolfhound\n",
      "./static/example_images/090.Italian_greyhound\n",
      "./static/example_images/091.Japanese_chin\n",
      "./static/example_images/092.Keeshond\n",
      "./static/example_images/093.Kerry_blue_terrier\n",
      "./static/example_images/094.Komondor\n",
      "./static/example_images/095.Kuvasz\n",
      "./static/example_images/096.Labrador_retriever\n",
      "./static/example_images/097.Lakeland_terrier\n",
      "./static/example_images/098.Leonberger\n",
      "./static/example_images/099.Lhasa_apso\n",
      "./static/example_images/100.Lowchen\n",
      "./static/example_images/101.Maltese\n",
      "./static/example_images/102.Manchester_terrier\n",
      "./static/example_images/103.Mastiff\n",
      "./static/example_images/104.Miniature_schnauzer\n",
      "./static/example_images/105.Neapolitan_mastiff\n",
      "./static/example_images/106.Newfoundland\n",
      "./static/example_images/107.Norfolk_terrier\n",
      "./static/example_images/108.Norwegian_buhund\n",
      "./static/example_images/109.Norwegian_elkhound\n",
      "./static/example_images/110.Norwegian_lundehund\n",
      "./static/example_images/111.Norwich_terrier\n",
      "./static/example_images/112.Nova_scotia_duck_tolling_retriever\n",
      "./static/example_images/113.Old_english_sheepdog\n",
      "./static/example_images/114.Otterhound\n",
      "./static/example_images/115.Papillon\n",
      "./static/example_images/116.Parson_russell_terrier\n",
      "./static/example_images/117.Pekingese\n",
      "./static/example_images/118.Pembroke_welsh_corgi\n",
      "./static/example_images/119.Petit_basset_griffon_vendeen\n",
      "./static/example_images/120.Pharaoh_hound\n",
      "./static/example_images/121.Plott\n",
      "./static/example_images/122.Pointer\n",
      "./static/example_images/123.Pomeranian\n",
      "./static/example_images/124.Poodle\n",
      "./static/example_images/125.Portuguese_water_dog\n",
      "./static/example_images/126.Saint_bernard\n",
      "./static/example_images/127.Silky_terrier\n",
      "./static/example_images/128.Smooth_fox_terrier\n",
      "./static/example_images/129.Tibetan_mastiff\n",
      "./static/example_images/130.Welsh_springer_spaniel\n",
      "./static/example_images/131.Wirehaired_pointing_griffon\n",
      "./static/example_images/132.Xoloitzcuintli\n",
      "./static/example_images/133.Yorkshire_terrier\n"
     ]
    },
    {
     "name": "stderr",
     "output_type": "stream",
     "text": [
      "\n"
     ]
    }
   ],
   "source": [
    "# resizing iamges to save space\n",
    "\n",
    "import os, sys\n",
    "from PIL import Image\n",
    "from tqdm import tqdm\n",
    "\n",
    "parent_dir = \"./static/example_images/\"\n",
    "\n",
    "basewidth = 350\n",
    "for dir in tqdm(os.listdir(parent_dir)):\n",
    "    \n",
    "    breed_dir = os.path.join(parent_dir, dir)\n",
    "    print(breed_dir)\n",
    "\n",
    "    for infile in os.listdir(breed_dir):\n",
    "        # print(infile)\n",
    "        filepath = os.path.join(breed_dir, infile)\n",
    "        img = Image.open(filepath)\n",
    "        if img.size[0] > basewidth :\n",
    "            wpercent = (basewidth/float(img.size[0]))\n",
    "            hsize = int((float(img.size[1])*float(wpercent)))\n",
    "            img = img.resize((basewidth,hsize), Image.Resampling.LANCZOS)\n",
    "            img.save(filepath)\n",
    "\n"
   ]
  },
  {
   "cell_type": "code",
   "execution_count": null,
   "metadata": {},
   "outputs": [],
   "source": []
  }
 ],
 "metadata": {
  "kernelspec": {
   "display_name": "dog-project",
   "language": "python",
   "name": "python3"
  },
  "language_info": {
   "codemirror_mode": {
    "name": "ipython",
    "version": 3
   },
   "file_extension": ".py",
   "mimetype": "text/x-python",
   "name": "python",
   "nbconvert_exporter": "python",
   "pygments_lexer": "ipython3",
   "version": "3.10.9"
  },
  "orig_nbformat": 4,
  "vscode": {
   "interpreter": {
    "hash": "0f5c87b41716163a5d833988ec4e6b152d3b0d9993b33c9f95ac6a56d2eaf3d1"
   }
  }
 },
 "nbformat": 4,
 "nbformat_minor": 2
}
